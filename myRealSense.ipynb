{
 "metadata": {
  "language_info": {
   "codemirror_mode": {
    "name": "ipython",
    "version": 3
   },
   "file_extension": ".py",
   "mimetype": "text/x-python",
   "name": "python",
   "nbconvert_exporter": "python",
   "pygments_lexer": "ipython3",
   "version": 3
  },
  "orig_nbformat": 2
 },
 "nbformat": 4,
 "nbformat_minor": 2,
 "cells": [
  {
   "cell_type": "code",
   "execution_count": null,
   "metadata": {},
   "outputs": [],
   "source": [
    "#install stuff\n",
    "!apt-get -q install -y libusb-1.0.0-dev\n",
    "!pip install pyrealsense2\n",
    "!wget -N http://realsense-hw-public.s3.amazonaws.com/rs-tests/TestData/object_detection.bag\n",
    "print(\"SDK + Sample Data Deployed\")"
   ]
  }
 ]
}